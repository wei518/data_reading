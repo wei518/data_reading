{
 "cells": [
  {
   "cell_type": "code",
   "execution_count": null,
   "metadata": {
    "scrolled": true
   },
   "outputs": [],
   "source": [
    "import pandas as pd\n",
    "import numpy as np\n",
    "df = pd.read_csv(\"new_taipei_ticket_001.csv\")"
   ]
  },
  {
   "cell_type": "code",
   "execution_count": null,
   "metadata": {},
   "outputs": [],
   "source": [
    "df.columns = ['sp_id','card_physical_id','card_txn_type_id',\n",
    "              'card_txn_subtype_id','fare_product_type_id','txn_timestamp',\n",
    "              'entry_zone','zone_no','line_no','bus_no',\n",
    "              'txn_amt','xfer_code','xfer_disc','area_code',\n",
    "              'none','SrcUpdateTime','UpdateTime','InfoTime','InfoDate']\n",
    "#給定欄位名稱"
   ]
  },
  {
   "cell_type": "code",
   "execution_count": null,
   "metadata": {
    "scrolled": true
   },
   "outputs": [],
   "source": [
    "df1=df.copy()\n",
    "df1.drop(['bus_no','SrcUpdateTime','UpdateTime','InfoTime','InfoDate'], axis=1, inplace=True)\n",
    "#丟掉不需要的欄位(節省跑的時間)，inplace=True不創建新對象"
   ]
  },
  {
   "cell_type": "code",
   "execution_count": null,
   "metadata": {
    "scrolled": true
   },
   "outputs": [],
   "source": [
    "df1.dtypes"
   ]
  },
  {
   "cell_type": "code",
   "execution_count": null,
   "metadata": {},
   "outputs": [],
   "source": [
    "def mem_usage(obj):\n",
    "    if isinstance(obj , pd.DataFrame):\n",
    "        usage_b = obj.memory_usage(deep = True).sum()\n",
    "    usage_mb = usage_b / 1024**2\n",
    "    return \"{:03.2f}MB\".format(usage_mb)\n",
    "df1_int = df1.select_dtypes(include=['int64'])\n",
    "convert_int = df1_int.apply(pd.to_numeric , downcast='unsigned') \n",
    "#downcast='integer', 'signed', 'unsigned', 'float'\n",
    "df1[convert_int.columns] = convert_int"
   ]
  },
  {
   "cell_type": "code",
   "execution_count": null,
   "metadata": {
    "scrolled": true
   },
   "outputs": [],
   "source": [
    "#df1['txn_timestamp']=pd.to_datetime(df1['txn_timestamp']) #將object轉成datetime64[ns]\n",
    "#df1 = df1.set_index('txn_timestamp') #將txn_timestamp作為頭一欄的index (可是變數會直接被抽離，不知道抽去哪)\n",
    "#df1.resample('M').sum().to_period('M').head() #顯示各月份數量(用datetime64[ns]排序會出現error有待確認)"
   ]
  },
  {
   "cell_type": "code",
   "execution_count": null,
   "metadata": {
    "scrolled": true
   },
   "outputs": [],
   "source": [
    "df1['txn_timestamp']=pd.to_datetime(df1['txn_timestamp'])\n",
    "s = pd.Series(df1['txn_timestamp'], index=df.index) #可以設定index這裡是根據原df的第一行做為表頭\n",
    "#df.reset_index(drop=True) #默認值為False，會保留原index在第二排並成為數據列，再額外增加新index排序\n",
    "print(type(s))\n",
    "s.sort_values() #看此資料的時間前後\n"
   ]
  },
  {
   "cell_type": "code",
   "execution_count": null,
   "metadata": {},
   "outputs": [],
   "source": [
    "#df_test = df.astype('category') #將數值轉為分類做排序(將低資料量)"
   ]
  },
  {
   "cell_type": "code",
   "execution_count": null,
   "metadata": {},
   "outputs": [],
   "source": [
    "df1.to_csv('ntt_001.csv',encoding='utf8') #存"
   ]
  },
  {
   "cell_type": "code",
   "execution_count": null,
   "metadata": {},
   "outputs": [],
   "source": [
    "df1[(df1.svce_loc_id == 70) & (df1.entry_datetime > '2017-05-29')]\n",
    "#提取"
   ]
  }
 ],
 "metadata": {
  "kernelspec": {
   "display_name": "Python 3",
   "language": "python",
   "name": "python3"
  },
  "language_info": {
   "codemirror_mode": {
    "name": "ipython",
    "version": 3
   },
   "file_extension": ".py",
   "mimetype": "text/x-python",
   "name": "python",
   "nbconvert_exporter": "python",
   "pygments_lexer": "ipython3",
   "version": "3.7.4"
  }
 },
 "nbformat": 4,
 "nbformat_minor": 2
}

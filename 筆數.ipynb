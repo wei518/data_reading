{
 "cells": [
  {
   "cell_type": "code",
   "execution_count": 1,
   "metadata": {},
   "outputs": [],
   "source": [
    "import pandas as pd\n",
    "import numpy as np\n",
    "import os\n"
   ]
  },
  {
   "cell_type": "code",
   "execution_count": 17,
   "metadata": {
    "scrolled": true
   },
   "outputs": [
    {
     "data": {
      "text/plain": [
       "['170101-0131_92.csv',\n",
       " '170102-0129_93.csv',\n",
       " '170103-0130_94.csv',\n",
       " '170201-0227_011.csv',\n",
       " '170202-0223_012.csv',\n",
       " '170204-0228_010.csv',\n",
       " '170301-0330_76.csv',\n",
       " '170302-0331_75.csv',\n",
       " '170303-0329_74.csv',\n",
       " '170401-0426_015.csv',\n",
       " '170402-0428_013.csv',\n",
       " '170404-0430_014.csv',\n",
       " '170501-0529_062.csv',\n",
       " '170502-0530_063.csv',\n",
       " '170503-0531_064.csv',\n",
       " '170601-0630_069.csv',\n",
       " '170602-0628_070.csv',\n",
       " '170603-0629_068.csv',\n",
       " '170702-0731_045.csv',\n",
       " '170702-0731_046.csv',\n",
       " '170703-0729_044.csv',\n",
       " '170801-0830_066.csv',\n",
       " '170802-0828_067.csv',\n",
       " '170803-0831_065.csv',\n",
       " '170901-0930_016.csv',\n",
       " '170902-0928_018.csv',\n",
       " '170904-0929_017.csv',\n",
       " '171001-1030_82.csv',\n",
       " '171002-1030_81.csv',\n",
       " '171003-1029_80.csv',\n",
       " '171101-1129_50.csv',\n",
       " '171102-1128_52.csv',\n",
       " '171103-1130_51.csv',\n",
       " '171201-1231_033.csv',\n",
       " '171203-1230_032.csv',\n",
       " '171204-1228_034.csv',\n",
       " '180101-0131_041.csv',\n",
       " '180102-0129_043.csv',\n",
       " '180103-0130_042.csv',\n",
       " '180201-0226_78.csv',\n",
       " '180202-0228_77.csv',\n",
       " '180203-0224_79.csv',\n",
       " '180301-0330_049.csv',\n",
       " '180302-0328_047.csv',\n",
       " '180303-0331_048.csv',\n",
       " '180401-0429_021.csv',\n",
       " '180402-0430_019.csv',\n",
       " '180403-0427_020.csv',\n",
       " '180501-0530_004.csv',\n",
       " '180502-0528_006.csv',\n",
       " '180504-0531_005.csv',\n",
       " '180601-0629_038.csv',\n",
       " '180602-0628_039.csv',\n",
       " '180604-0630_040.csv',\n",
       " '180701-0739_55.csv',\n",
       " '180702-0729_53.csv',\n",
       " '180704-0731_54.csv',\n",
       " '180801-0831_026.csv',\n",
       " '180802-0829_025.csv',\n",
       " '180803-0830_027.csv',\n",
       " '180901-0929_071.csv',\n",
       " '180902-0928_073.csv',\n",
       " '180906-0930_072.csv',\n",
       " '181001-1023_56.csv',\n",
       " '181002-1030_57.csv',\n",
       " '181005-1037_58.csv',\n",
       " '181101-1130_029.csv',\n",
       " '181102-1127_031.csv',\n",
       " '181103-1129_030.csv',\n",
       " '181201-190101_91.csv',\n",
       " '181201_028.csv',\n",
       " '181202-1229_90.csv',\n",
       " '181203-190101_89.csv',\n",
       " '190101-0129_002.csv',\n",
       " '190102-0131_003.csv',\n",
       " '190105-0130_001.csv',\n",
       " '190201-0228_023.csv',\n",
       " '190202-0227_024.csv',\n",
       " '190203-0228_022.csv',\n",
       " '190301-0331_86.csv',\n",
       " '190302-0330_87.csv',\n",
       " '190304-0329_88.csv',\n",
       " '190401-0428_036.csv',\n",
       " '190402-0426_035.csv',\n",
       " '190403-0430_037.csv',\n",
       " '190501-0531_061.csv',\n",
       " '190502-0528_060.csv',\n",
       " '190503-0530_059.csv',\n",
       " '190601-0628_008.csv',\n",
       " '190602-0629_009.csv',\n",
       " '190604-0630_007.csv',\n",
       " '190701-0731_85.csv',\n",
       " '190702-0730_84.csv',\n",
       " '190704-0729_83.csv',\n",
       " 'new_taipei_ticket_001.csv',\n",
       " 'new_taipei_ticket_002.csv',\n",
       " 'new_taipei_ticket_003.csv',\n",
       " 'new_taipei_ticket_004.csv',\n",
       " 'new_taipei_ticket_005.csv']"
      ]
     },
     "execution_count": 17,
     "metadata": {},
     "output_type": "execute_result"
    }
   ],
   "source": [
    "path=(r'D:\\Traffic\\new_taipei_ticket')\n",
    "files = os.listdir(path)\n",
    "files_csv = list(filter(lambda x: x[-4:]=='.csv' , files))\n",
    "files_csv\n"
   ]
  },
  {
   "cell_type": "code",
   "execution_count": 21,
   "metadata": {},
   "outputs": [
    {
     "data": {
      "text/plain": [
       "698847847"
      ]
     },
     "execution_count": 21,
     "metadata": {},
     "output_type": "execute_result"
    }
   ],
   "source": [
    "a=0\n",
    "for file in files_csv:\n",
    "    tmp = pd.read_csv(file)\n",
    "    a=a+len(tmp)\n",
    "a\n",
    "    "
   ]
  },
  {
   "cell_type": "code",
   "execution_count": null,
   "metadata": {},
   "outputs": [],
   "source": []
  }
 ],
 "metadata": {
  "kernelspec": {
   "display_name": "Python 3",
   "language": "python",
   "name": "python3"
  },
  "language_info": {
   "codemirror_mode": {
    "name": "ipython",
    "version": 3
   },
   "file_extension": ".py",
   "mimetype": "text/x-python",
   "name": "python",
   "nbconvert_exporter": "python",
   "pygments_lexer": "ipython3",
   "version": "3.7.4"
  }
 },
 "nbformat": 4,
 "nbformat_minor": 2
}
